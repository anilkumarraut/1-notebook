{
 "cells": [
  {
   "cell_type": "markdown",
   "id": "f175dfe4-e6c8-4eac-8ebb-580cd5833373",
   "metadata": {},
   "source": [
    "# Data Science Tools and Ecosystem"
   ]
  },
  {
   "cell_type": "markdown",
   "id": "11a3509b-7d2a-4d6b-b1ac-7782f418f84f",
   "metadata": {},
   "source": [
    "In this notebook, Data Science Tools and Ecosystem are summarized."
   ]
  },
  {
   "cell_type": "markdown",
   "id": "99352fd3-bace-40d0-9295-63c9d8dc10f0",
   "metadata": {},
   "source": [
    "### Objectives: To learn the important Tools and Ecosystem for Data Science\n",
    "- Popular languages for Data Science.\n",
    "- Explore arithmetic expressions and conversions.\n",
    "- Introduce basic Markdown formatting."
   ]
  },
  {
   "cell_type": "markdown",
   "id": "0537ed32-e8e2-409f-b68a-84242414e820",
   "metadata": {},
   "source": [
    "Some of the popular languages that Data Scientists use are:\n",
    "1. Python\n",
    "2. R\n",
    "3. Julia"
   ]
  },
  {
   "cell_type": "markdown",
   "id": "4eeee73d-be5f-4db5-b9d8-e4c5f1505207",
   "metadata": {},
   "source": [
    "Some of the commonly used libraries used by Data Scientists include:\n",
    "1. NumPy\n",
    "2. pandas\n",
    "3. scikit-learn"
   ]
  },
  {
   "cell_type": "markdown",
   "id": "8c852ed5-1cc1-4f9d-84a5-dc762ad8e8ac",
   "metadata": {},
   "source": [
    "| Data Science Tools  |\n",
    "|---------------------|\n",
    "| Jupyter Notebook    |\n",
    "| RStudio             |\n",
    "| Visual Studio Code  |"
   ]
  },
  {
   "cell_type": "markdown",
   "id": "68008c3c-a7e7-4115-bd6e-c1f1f245af65",
   "metadata": {},
   "source": [
    "### Below are a few examples of evaluating arithmetic expressions in Python."
   ]
  },
  {
   "cell_type": "code",
   "execution_count": 1,
   "id": "41ca02ca-4cfa-44da-962a-2f311b91bd61",
   "metadata": {
    "tags": []
   },
   "outputs": [
    {
     "data": {
      "text/plain": [
       "17"
      ]
     },
     "execution_count": 1,
     "metadata": {},
     "output_type": "execute_result"
    }
   ],
   "source": [
    "# This is a simple arithmetic expression to multiply then add integers.\n",
    "result = (3 * 4) + 5\n",
    "result"
   ]
  },
  {
   "cell_type": "code",
   "execution_count": 2,
   "id": "117721aa-b10b-42ca-9e5d-9e1fdd684900",
   "metadata": {
    "tags": []
   },
   "outputs": [
    {
     "data": {
      "text/plain": [
       "3.3333333333333335"
      ]
     },
     "execution_count": 2,
     "metadata": {},
     "output_type": "execute_result"
    }
   ],
   "source": [
    "# This will convert 200 minutes to hours by dividing by 60.\n",
    "minutes = 200\n",
    "hours = minutes / 60\n",
    "hours"
   ]
  },
  {
   "cell_type": "markdown",
   "id": "8b613189-eb9e-421f-b1c5-9cd516b0818b",
   "metadata": {
    "tags": []
   },
   "source": [
    "## Author: \n",
    "Anil Kumar Raut"
   ]
  }
 ],
 "metadata": {
  "kernelspec": {
   "display_name": "Python",
   "language": "python",
   "name": "conda-env-python-py"
  },
  "language_info": {
   "codemirror_mode": {
    "name": "ipython",
    "version": 3
   },
   "file_extension": ".py",
   "mimetype": "text/x-python",
   "name": "python",
   "nbconvert_exporter": "python",
   "pygments_lexer": "ipython3",
   "version": "3.7.12"
  }
 },
 "nbformat": 4,
 "nbformat_minor": 5
}
